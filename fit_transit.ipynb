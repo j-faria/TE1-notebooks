{
 "cells": [
  {
   "cell_type": "code",
   "execution_count": 10,
   "metadata": {
    "collapsed": true
   },
   "outputs": [],
   "source": [
    "import numpy as np\n",
    "import matplotlib.pyplot as plt\n",
    "import batman\n",
    "\n",
    "# try  \n",
    "#   pip install lmfit\n",
    "# if you don't have it installed\n",
    "from lmfit import minimize,Parameters,Parameter,report_fit"
   ]
  },
  {
   "cell_type": "code",
   "execution_count": null,
   "metadata": {
    "collapsed": true
   },
   "outputs": [],
   "source": [
    "def transitmin(params, time, flux, fluxerr):\n",
    "    \"\"\" Calculate the transit light curve and the difference from the observed flux \"\"\"\n",
    "    parbat = batman.TransitParams()\n",
    "    parbat.t0 = params['t0'].value      # time of transit\n",
    "    parbat.per = params['per'].value    # orbital period\n",
    "    parbat.rp = params['rp'].value      # planet radius (in units of stellar radii)\n",
    "    parbat.a = params['a'].value        # semi-major axis (in units of stellar radii)\n",
    "    parbat.inc = params['inc'].value    # orbital inclination (in degrees)\n",
    "    parbat.ecc = params['ecc'].value    # eccentricity\n",
    "    parbat.w = params['w'].value        # longitude of periastron (in degrees)\n",
    "    parbat.u = [params['u1'].value, params['u2'].value]    # limb darkening coefficients\n",
    "    parbat.limb_dark = \"quadratic\"                         # limb darkening model\n",
    "\n",
    "    m = batman.TransitModel(parbat, time, supersample_factor=21, exp_time=0.5/24.)\n",
    "    model = m.light_curve(parbat)\n",
    "    return (model - flux)/fluxerr"
   ]
  },
  {
   "cell_type": "code",
   "execution_count": null,
   "metadata": {
    "collapsed": false
   },
   "outputs": [],
   "source": [
    "## read the light curve\n",
    "filename = 'ktwo211089792.txt'\n",
    "\n",
    "time, lc, lcerror = \n",
    "\n",
    "\n",
    "## plot the light curve\n",
    "# ...\n",
    "plt.xlabel('Time [days]')\n",
    "plt.ylabel('Flux')"
   ]
  },
  {
   "cell_type": "code",
   "execution_count": null,
   "metadata": {
    "collapsed": false
   },
   "outputs": [],
   "source": [
    "# parameters obtained from the BLS\n",
    "period = \n",
    "epoch = \n",
    "depth = \n",
    "duration = \n",
    "\n",
    "\n",
    "time = time-epoch\n",
    "\n",
    "# set up iniital parameters\n",
    "# estimate a/rs and rp/rs\n",
    "g = 6.67428e-11\n",
    "gm = 1.32712440041e20\n",
    "msun = gm/g\n",
    "rsun = 6.95508e8\n",
    "sdensity = 1.0\n",
    "aoverr = (sdensity*(gm*(period*24.*3600.0)**2.)/(4.*np.pi**2.*rsun**3.))**(1./3.)\n",
    "rp = np.sqrt(depth)\n",
    "\n",
    "# Assume  limb darkening\n",
    "u1 = 0.4983\n",
    "u2 = 0.2042"
   ]
  },
  {
   "cell_type": "code",
   "execution_count": null,
   "metadata": {
    "collapsed": true
   },
   "outputs": [],
   "source": [
    "# set up the parameters for batman\n",
    "params2 = batman.TransitParams()\n",
    "params2.t0 = 0.0                       #time of inferior conjunction\n",
    "params2.per = period                    #orbital period\n",
    "params2.rp = rp                     #planet radius (in units of stellar radii)\n",
    "params2.a = aoverr                       #semi-major axis (in units of stellar radii)\n",
    "params2.inc = 89.                     #orbital inclination (in degrees)\n",
    "params2.ecc = 0.                      #eccentricity\n",
    "params2.w = 90.                       #longitude of periastron (in degrees)\n",
    "params2.u = [u1, u2]                #limb darkening coefficients\n",
    "params2.limb_dark = \"quadratic\"       #limb darkening model\n",
    "\n",
    "\n",
    "\n",
    "# calculate and plot the starting model\n",
    "m = batman.TransitModel(params2, time, supersample_factor = 21, exp_time = 0.5/24.)    #initializes model\n",
    "model = m.light_curve(params2)\n",
    "\n",
    "plt.figure()\n",
    "plt.plot(time, lc, '.')\n",
    "plt.plot(time,  model, color='r')\n",
    "plt.xlabel(\"Time\")\n",
    "plt.ylabel(\"Relative flux\")\n",
    "plt.show()"
   ]
  },
  {
   "cell_type": "code",
   "execution_count": null,
   "metadata": {
    "collapsed": true
   },
   "outputs": [],
   "source": [
    "# create a set of parameters for lmfit\n",
    "# the ones that are fixed have vary=false\n",
    "params = Parameters()\n",
    "params.add('t0', value = 0.0)\n",
    "params.add('per', value = period, vary = True)\n",
    "params.add('rp', value = rp)\n",
    "params.add('a', value = aoverr)\n",
    "params.add('inc', value = 88.)\n",
    "params.add('ecc', value = 0.0, vary = False)\n",
    "params.add('w', value = 90., vary = False)\n",
    "params.add('u1', value = u1, vary = False)\n",
    "params.add('u2', value = u2, vary = False)"
   ]
  },
  {
   "cell_type": "code",
   "execution_count": 8,
   "metadata": {
    "collapsed": false
   },
   "outputs": [
    {
     "ename": "NameError",
     "evalue": "name 'params' is not defined",
     "output_type": "error",
     "traceback": [
      "\u001b[0;31m---------------------------------------------------------------------------\u001b[0m",
      "\u001b[0;31mNameError\u001b[0m                                 Traceback (most recent call last)",
      "\u001b[0;32m<ipython-input-8-69615aff2ca0>\u001b[0m in \u001b[0;36m<module>\u001b[0;34m()\u001b[0m\n\u001b[1;32m      1\u001b[0m \u001b[0;31m# use lmfit to estimate the transit parameters\u001b[0m\u001b[0;34m\u001b[0m\u001b[0;34m\u001b[0m\u001b[0m\n\u001b[0;32m----> 2\u001b[0;31m \u001b[0mresult\u001b[0m \u001b[0;34m=\u001b[0m \u001b[0mminimize\u001b[0m\u001b[0;34m(\u001b[0m\u001b[0mtransitmin\u001b[0m\u001b[0;34m,\u001b[0m\u001b[0mparams\u001b[0m\u001b[0;34m,\u001b[0m \u001b[0margs\u001b[0m\u001b[0;34m=\u001b[0m\u001b[0;34m(\u001b[0m\u001b[0mtime\u001b[0m\u001b[0;34m,\u001b[0m\u001b[0mflux\u001b[0m\u001b[0;34m,\u001b[0m\u001b[0mlcerror\u001b[0m\u001b[0;34m)\u001b[0m\u001b[0;34m)\u001b[0m\u001b[0;34m\u001b[0m\u001b[0m\n\u001b[0m\u001b[1;32m      3\u001b[0m \u001b[0;34m\u001b[0m\u001b[0m\n\u001b[1;32m      4\u001b[0m \u001b[0mreport_fit\u001b[0m\u001b[0;34m(\u001b[0m\u001b[0mresult\u001b[0m\u001b[0;34m)\u001b[0m\u001b[0;34m\u001b[0m\u001b[0m\n",
      "\u001b[0;31mNameError\u001b[0m: name 'params' is not defined"
     ]
    }
   ],
   "source": [
    "# use lmfit to estimate the transit parameters\n",
    "result = minimize(transitmin,params, args=(time, lc, lcerror))\n",
    "\n",
    "report_fit(result)"
   ]
  },
  {
   "cell_type": "code",
   "execution_count": null,
   "metadata": {
    "collapsed": true
   },
   "outputs": [],
   "source": [
    "# recover the fitted parameters from the result\n",
    "parbat = batman.TransitParams()\n",
    "parbat.t0 = result.params['t0'].value                     #time of inferior conjunction\n",
    "parbat.per = result.params['per'].value                    #orbital period\n",
    "parbat.rp = result.params['rp'].value                      #planet radius (in units of stellar radii)\n",
    "parbat.a = result.params['a'].value                      #semi-major axis (in units of stellar radii)\n",
    "parbat.inc = result.params['inc'].value                     #orbital inclination (in degrees)\n",
    "parbat.ecc = 0.                      #eccentricity\n",
    "parbat.w = 90.                       #longitude of periastron (in degrees)\n",
    "parbat.u = [u1, u2]                #limb darkening coefficients\n",
    "parbat.limb_dark = \"quadratic\"       #limb darkening model\n",
    "\n",
    "period = result.params['per'].value\n",
    "epoch0 = result.params['t0'].value\n",
    "\n",
    "#phase fold to plot\n",
    "phase0 = (time )/period\n",
    "phase = phase0%1\n",
    "phadur = duration*2.2/period\n",
    "\n",
    "phase[np.where(phase>0.5)[0]]-=1\n",
    "cond = np.where(abs(phase) < phadur)[0]\n",
    "\n",
    "timefold = phase[cond]*period\n",
    "fluxfold = lc[cond]\n",
    "\n",
    "fluxfold = fluxfold[np.argsort(timefold)]\n",
    "timefold = np.sort(timefold)\n",
    "\n",
    "\n",
    "# calculate and plot the two models initial model for the time folded dataset\n",
    "m = batman.TransitModel(params2, timefold, supersample_factor = 21, exp_time = 0.5/24.)\n",
    "model = m.light_curve(params2)\n",
    "\n",
    "\n",
    "m = batman.TransitModel(parbat, timefold, supersample_factor = 21, exp_time = 0.5/24.)\n",
    "fitmodel = m.light_curve(parbat)\n",
    "\n",
    "\n",
    "\n",
    "\n"
   ]
  },
  {
   "cell_type": "code",
   "execution_count": 9,
   "metadata": {
    "collapsed": false
   },
   "outputs": [
    {
     "ename": "NameError",
     "evalue": "name 'timefold' is not defined",
     "output_type": "error",
     "traceback": [
      "\u001b[0;31m---------------------------------------------------------------------------\u001b[0m",
      "\u001b[0;31mNameError\u001b[0m                                 Traceback (most recent call last)",
      "\u001b[0;32m<ipython-input-9-0bc883f770e4>\u001b[0m in \u001b[0;36m<module>\u001b[0;34m()\u001b[0m\n\u001b[0;32m----> 1\u001b[0;31m \u001b[0mplt\u001b[0m\u001b[0;34m.\u001b[0m\u001b[0mplot\u001b[0m\u001b[0;34m(\u001b[0m\u001b[0mtimefold\u001b[0m\u001b[0;34m,\u001b[0m \u001b[0mfluxfold\u001b[0m\u001b[0;34m,\u001b[0m \u001b[0;34m'.'\u001b[0m\u001b[0;34m)\u001b[0m\u001b[0;34m\u001b[0m\u001b[0m\n\u001b[0m\u001b[1;32m      2\u001b[0m \u001b[0mplt\u001b[0m\u001b[0;34m.\u001b[0m\u001b[0mplot\u001b[0m\u001b[0;34m(\u001b[0m\u001b[0mtimefold\u001b[0m\u001b[0;34m,\u001b[0m  \u001b[0mmodel\u001b[0m\u001b[0;34m,\u001b[0m \u001b[0mcolor\u001b[0m\u001b[0;34m=\u001b[0m\u001b[0;34m'g'\u001b[0m\u001b[0;34m)\u001b[0m\u001b[0;34m\u001b[0m\u001b[0m\n\u001b[1;32m      3\u001b[0m \u001b[0mplt\u001b[0m\u001b[0;34m.\u001b[0m\u001b[0mplot\u001b[0m\u001b[0;34m(\u001b[0m\u001b[0mtimefold\u001b[0m\u001b[0;34m,\u001b[0m  \u001b[0mfitmodel\u001b[0m\u001b[0;34m,\u001b[0m \u001b[0mcolor\u001b[0m\u001b[0;34m=\u001b[0m\u001b[0;34m'r'\u001b[0m\u001b[0;34m)\u001b[0m\u001b[0;34m\u001b[0m\u001b[0m\n\u001b[1;32m      4\u001b[0m \u001b[0mplt\u001b[0m\u001b[0;34m.\u001b[0m\u001b[0mxlabel\u001b[0m\u001b[0;34m(\u001b[0m\u001b[0;34m\"Time\"\u001b[0m\u001b[0;34m)\u001b[0m\u001b[0;34m\u001b[0m\u001b[0m\n\u001b[1;32m      5\u001b[0m \u001b[0mplt\u001b[0m\u001b[0;34m.\u001b[0m\u001b[0mylabel\u001b[0m\u001b[0;34m(\u001b[0m\u001b[0;34m\"Relative flux\"\u001b[0m\u001b[0;34m)\u001b[0m\u001b[0;34m\u001b[0m\u001b[0m\n",
      "\u001b[0;31mNameError\u001b[0m: name 'timefold' is not defined"
     ]
    }
   ],
   "source": [
    "plt.figure()\n",
    "plt.plot(timefold, fluxfold, '.')\n",
    "plt.plot(timefold,  model, color='g')\n",
    "plt.plot(timefold,  fitmodel, color='r')\n",
    "plt.xlabel(\"Time\")\n",
    "plt.ylabel(\"Relative flux\")\n",
    "plt.show()"
   ]
  },
  {
   "cell_type": "code",
   "execution_count": null,
   "metadata": {
    "collapsed": true
   },
   "outputs": [],
   "source": [
    "#### Cut the transits and write them to a file\n",
    "filename = 'cuttransits.txt'\n",
    "\n",
    "fp = open(filename, 'w')\n",
    "for i in cond:\n",
    "    fp.write('%.10f\\t%f\\t%f\\n'%(time[i]+epoch, lc[i], lcerror[i]))\n",
    "fp.close()"
   ]
  }
 ],
 "metadata": {
  "kernelspec": {
   "display_name": "Python 2",
   "language": "python",
   "name": "python2"
  },
  "language_info": {
   "codemirror_mode": {
    "name": "ipython",
    "version": 2
   },
   "file_extension": ".py",
   "mimetype": "text/x-python",
   "name": "python",
   "nbconvert_exporter": "python",
   "pygments_lexer": "ipython2",
   "version": "2.7.12"
  }
 },
 "nbformat": 4,
 "nbformat_minor": 0
}
