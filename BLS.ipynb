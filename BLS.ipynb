{
 "cells": [
  {
   "cell_type": "code",
   "execution_count": null,
   "metadata": {
    "collapsed": false
   },
   "outputs": [],
   "source": [
    "import bls\n",
    "import numpy as np\n",
    "%pylab"
   ]
  },
  {
   "cell_type": "code",
   "execution_count": null,
   "metadata": {
    "collapsed": false
   },
   "outputs": [],
   "source": [
    "# Read the light curve\n",
    "filename = '../ktwo211089792c04_FILlpd_LC.txt'\n",
    "time, lc, lcerror = \n",
    "\n",
    "# plot the light curve\n",
    "# ..."
   ]
  },
  {
   "cell_type": "code",
   "execution_count": null,
   "metadata": {
    "collapsed": false
   },
   "outputs": [],
   "source": [
    "# Define input variables\n",
    "\n",
    "# temporary arrays\n",
    "u = np.zeros_like(time)\n",
    "v = np.zeros_like(time)\n",
    "\n",
    "df =    # frequency step\n",
    "nb =    # number of bins\n",
    "qmi =   # minimum fractional transit duration\n",
    "qma =   # maximum transit duration\n",
    "\n",
    "# frequencies to test\n",
    "fmax =   # search a mininum period of 0.5 days\n",
    "fmin =   # search a maximum period 70% of the full time series duration\n",
    "\n",
    "# build frequency array\n",
    "nf = (fmax-fmin) / df\n",
    "f = fmin + (np.arange(nf))*df"
   ]
  },
  {
   "cell_type": "code",
   "execution_count": null,
   "metadata": {
    "collapsed": true
   },
   "outputs": [],
   "source": [
    "# call the BLS function\n",
    "power, best_period, best_power, depth, qtran, in1, in2 = bls.eebls(time, lc, u, v, nf, fmin, df, nb, qmi, qma)\n",
    "\n",
    "\n",
    "per = 1./f\n",
    "duration = best_period*qtran\n",
    "epoch0 = time[0] + (in1+in2)*0.5/float(nb)*best_period"
   ]
  },
  {
   "cell_type": "code",
   "execution_count": null,
   "metadata": {
    "collapsed": false
   },
   "outputs": [],
   "source": [
    "# print the period of maximum power, the depth and duration of the transit\n",
    "print 'best period:',\n",
    "print 'depth, duration:',"
   ]
  },
  {
   "cell_type": "code",
   "execution_count": null,
   "metadata": {
    "collapsed": false
   },
   "outputs": [],
   "source": [
    "# plot the periodogram\n",
    "plt.figure()\n",
    "...\n",
    "plt.xlabel('Period [days]')\n",
    "plt.ylabel('BLS power')"
   ]
  },
  {
   "cell_type": "code",
   "execution_count": null,
   "metadata": {
    "collapsed": true
   },
   "outputs": [],
   "source": [
    "# calculate the signal detection efficiency -- see Kovacs, Zucker & Mazeh (2002), eq. (6)\n",
    "sde = "
   ]
  },
  {
   "cell_type": "code",
   "execution_count": null,
   "metadata": {
    "collapsed": true
   },
   "outputs": [],
   "source": [
    "# phase fold the light curve on the best period\n",
    "phase0 = \n",
    "phase = \n",
    "phase[np.where(phase>0.5)[0]]-=1"
   ]
  },
  {
   "cell_type": "code",
   "execution_count": null,
   "metadata": {
    "collapsed": false
   },
   "outputs": [],
   "source": [
    "# plot the light curve phased at the best BLS period\n",
    "plt.figure()\n",
    "...\n",
    "plt.xlabel('Phase ?')"
   ]
  },
  {
   "cell_type": "code",
   "execution_count": null,
   "metadata": {
    "collapsed": true
   },
   "outputs": [],
   "source": []
  }
 ],
 "metadata": {
  "kernelspec": {
   "display_name": "Python 2",
   "language": "python",
   "name": "python2"
  },
  "language_info": {
   "codemirror_mode": {
    "name": "ipython",
    "version": 2
   },
   "file_extension": ".py",
   "mimetype": "text/x-python",
   "name": "python",
   "nbconvert_exporter": "python",
   "pygments_lexer": "ipython2",
   "version": "2.7.12"
  }
 },
 "nbformat": 4,
 "nbformat_minor": 0
}
