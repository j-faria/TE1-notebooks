{
 "cells": [
  {
   "cell_type": "code",
   "execution_count": null,
   "metadata": {
    "collapsed": false
   },
   "outputs": [],
   "source": [
    "import matplotlib.pyplot as plt\n",
    "import numpy as np\n",
    "from scipy import stats\n",
    "import emcee\n",
    "import batman\n",
    "import sys"
   ]
  },
  {
   "cell_type": "code",
   "execution_count": null,
   "metadata": {
    "collapsed": true
   },
   "outputs": [],
   "source": [
    "# you need to have exonailer installed\n",
    "# append to sys.path the directory where you find the file 'ajplanet.so'\n",
    "sys.path.append('..')\n",
    "from utilities.ajplanet import pl_rv_array as rv_curve"
   ]
  },
  {
   "cell_type": "code",
   "execution_count": null,
   "metadata": {
    "collapsed": true
   },
   "outputs": [],
   "source": [
    "# fix the eccentricity (to zero)\n",
    "fix_ecc = True"
   ]
  },
  {
   "cell_type": "code",
   "execution_count": null,
   "metadata": {
    "collapsed": false
   },
   "outputs": [],
   "source": [
    "class Planet(object):\n",
    "    def __init__(self):\n",
    "        # these are fixed\n",
    "        self.limb_dark = \"quadratic\" # limb darkening model\n",
    "        self.u = [.4983, 0.2042]     # limb darkening coefficients\n",
    "        \n",
    "        # transit parameters\n",
    "        self.rp = 0.          # planet radius (in units of stellar radii)\n",
    "        self.a = 0.           # semi-major axis (in units of stellar radii)\n",
    "        self.inc = 0.         # orbital inclination (in degrees)\n",
    "        self.t0 = 0.          # time of inferior conjunction\n",
    "        self.jitter_lc = 0.\n",
    "\n",
    "        # rv parameters\n",
    "        self.rvsys = 0.      # radial velocity systematic velocity\n",
    "        self.K = 0.          # semi-amplitude\n",
    "        self.T0 = 0.         # time of periastron (function of self.t0, not a free parameter)\n",
    "        self.jitter_rv = 0.\n",
    "\n",
    "        # parameters shared between transit and rv\n",
    "        self.period = 0. # orbital period\n",
    "        self.ecc = 0.    # eccentricity\n",
    "        self.w = 0.      # longitude of periastron (in degrees)\n",
    "\n",
    "        \n",
    "        # number of free parameters        \n",
    "        self.N_free_parameters = \n",
    "\n",
    "\n",
    "        # start the batman model\n",
    "        self.params = batman.TransitParams()\n",
    "        self.params.limb_dark = self.limb_dark  # limb darkening model\n",
    "        self.params.u = self.u                  # limb darkening coefficients\n",
    "\n",
    "        # names of the parameters for the plots\n",
    "        self.labels = [r'$R_p / R_*$',\n",
    "                       r'$a/R_*$',\n",
    "                       r'$i$',\n",
    "                       r'$t_0$',\n",
    "                       r'$s_{\\rm lc}$',\n",
    "                       'vsys',\n",
    "                       r'$K$',\n",
    "                       r'$s_{\\rm RV}$',\n",
    "                       r'$P$',\n",
    "                       r'$e$',\n",
    "                       r'$\\omega$']\n",
    "        \n",
    "        if fix_ecc:\n",
    "            self.labels.pop(10)\n",
    "            self.labels.pop(9)\n",
    "\n",
    "\n",
    "    def set_rv_parameters(self, pars):\n",
    "        \"\"\" pars should be [rvsys, K, jitter_rv] \"\"\"\n",
    "        self.rvsys, self.K, self.jitter_rv = pars\n",
    "\n",
    "\n",
    "    def set_transit_parameters(self, pars):\n",
    "        \"\"\" pars should be [rp, a, inc, t0, jitter_lc] \"\"\"\n",
    "        self.rp, self.a, self.inc, self.t0, self.jitter_lc = pars\n",
    "\n",
    "        \n",
    "    def set_shared_parameters(self, pars):\n",
    "        \"\"\" pars should be [period, (ecc, w)] \"\"\"\n",
    "        if fix_ecc:\n",
    "            self.period = pars\n",
    "            self.ecc = 0.\n",
    "            self.w = 90.\n",
    "        else:\n",
    "            self.period, self.ecc, self.w = pars\n",
    "        \n",
    "        self.T0 = self.t0 # set the time of periastron\n",
    "        \n",
    "\n",
    "    def get_rv_curve(self, t, debug=False):\n",
    "        \"\"\" return the RV curve evaluated at times t \"\"\"\n",
    "        pass\n",
    "\n",
    "    \n",
    "    def get_transit_curve(self, t, debug=False):\n",
    "        \"\"\" return the transit curve at times t\"\"\"\n",
    "        \n",
    "        # set self.params for batman\n",
    "        self.params.t0 = self.t0\n",
    "        self.params.per = self.period\n",
    "        self.params.rp = self.rp\n",
    "        self.params.a = self.a\n",
    "        self.params.inc = self.inc\n",
    "        self.params.ecc = self.ecc\n",
    "        self.params.w = self.w\n",
    "\n",
    "        self.batman_model = batman.TransitModel(self.params, t)\n",
    "        light_curve = self.batman_model.light_curve(self.params)\n",
    "        \n",
    "        return light_curve\n",
    "\n",
    "\n",
    "    def set_priors(self):\n",
    "        \"\"\" Define each parameter prior distribution \"\"\"\n",
    "        \n",
    "        # use the scipy distributions!\n",
    "        self.prior_rp = stats.                         # planet radius (in units of stellar radii)\n",
    "        self.prior_a =                                 # semi-major axis (in units of stellar radii)\n",
    "        self.prior_inc =                               # orbital inclination (in degrees)\n",
    "        self.prior_t0 =                                # time of inferior conjunction\n",
    "        self.prior_jitter_lc = \n",
    "\n",
    "        # rv parameters\n",
    "        self.prior_rvsys =                             # systematic radial velocity\n",
    "        self.prior_K =                                 # semi-amplitude\n",
    "        self.prior_jitter_rv = \n",
    " \n",
    "        # parameters shared between transit and rv\n",
    "        self.prior_period =                            # orbital period\n",
    "        \n",
    "        if not fix_ecc:\n",
    "            self.prior_ecc =                      # eccentricity\n",
    "            self.prior_w =                        # longitude of periastron (in degrees)\n",
    "\n",
    "\n",
    "    def get_from_prior(self, nwalkers):\n",
    "        \"\"\" return a list with random values from each parameter's prior \"\"\"       \n",
    "        self.set_priors()\n",
    "\n",
    "        pars_from_prior = []\n",
    "        for i in range(nwalkers):\n",
    "            # use again the scipy distributions\n",
    "            random_rp = ...\n",
    "            ...\n",
    "            \n",
    "            pars_from_prior.append([random_rp,random_a, random_inc, random_t0, random_jitter_lc,\n",
    "                                    random_rvsys, random_K, random_jitter_rv,\n",
    "                                    random_period])\n",
    "\n",
    "            if not fix_ecc:\n",
    "                random_ecc = self.prior_ecc.rvs()\n",
    "                random_w = self.prior_w.rvs()\n",
    "                \n",
    "                pars_from_prior.append(random_ecc, random_w)\n",
    "\n",
    "        return pars_from_prior"
   ]
  },
  {
   "cell_type": "code",
   "execution_count": 56,
   "metadata": {
    "collapsed": true
   },
   "outputs": [],
   "source": [
    "### A very simple Data class to hold the light curve and the RVs\n",
    "class Data(object):\n",
    "    def __init__(self, rv_file, lc_file, skip_rv_rows=2, skip_lc_rows=0):\n",
    "        \n",
    "        self.rv_file = rv_file\n",
    "        self.lc_file = lc_file\n",
    "\n",
    "        # read RVs\n",
    "        self.RVtime, self.RV, self.RVerror = np.loadtxt(rv_file, \n",
    "                                                        unpack=True, skiprows=skip_rv_rows)\n",
    "\n",
    "        # read light curve\n",
    "        self.LCtime, self.LC, self.LCerror = np.loadtxt(lc_file,\n",
    "                                                        unpack=True, skiprows=skip_lc_rows)\n",
    "\n",
    "        self.N_rvs = self.RVtime.size\n",
    "        self.N_lc = self.LCtime.size"
   ]
  },
  {
   "cell_type": "code",
   "execution_count": null,
   "metadata": {
    "collapsed": false
   },
   "outputs": [],
   "source": [
    "### This is the log likelihood function\n",
    "\n",
    "def lnlike(pars, planet, data, debug=False):\n",
    "    \"\"\" pars should be\n",
    "    # [rp, a, inc, t0, jitter_lc,\n",
    "    #  rvsys, K, jitter_rv,\n",
    "    #  period, ecc, w]\n",
    "    \"\"\"\n",
    "    log2pi = np.log(2*np.pi)\n",
    "\n",
    "\n",
    "    # set the transit params\n",
    "    planet.set_transit_parameters(pars[:5])\n",
    "    # set the RV params\n",
    "    planet.set_rv_parameters(pars[5:8])\n",
    "    # set the shared params\n",
    "    planet.set_shared_parameters(pars[8:])\n",
    "\n",
    "    \n",
    "    # calculate the lnlike for transit (eq. 3)\n",
    "    log_like_transit = \n",
    "    \n",
    "    # if you want, try to calculate lnlike using one of the scipy distributions\n",
    "    # log_like_transit2 = \n",
    "    \n",
    "    \n",
    "    \n",
    "    # calculate the lnlike for RVs\n",
    "    log_like_rv =\n",
    "\n",
    "\n",
    "    \n",
    "    # the total log likelighood \n",
    "    log_like = \n",
    "    \n",
    "    \n",
    "    if not np.isfinite(log_like):\n",
    "        return -np.inf\n",
    "    else:\n",
    "        return log_like"
   ]
  },
  {
   "cell_type": "code",
   "execution_count": null,
   "metadata": {
    "collapsed": false
   },
   "outputs": [],
   "source": [
    "### This function calculate the log prior for a set of parameters\n",
    "def lnprior(pars, planet, data, debug=False):\n",
    "    \"\"\" pars should be\n",
    "    # [rp, a, inc, t0, jitter_lc,\n",
    "    #  rvsys, K, jitter_rv,\n",
    "    #  period, ecc, w]\n",
    "    \"\"\"\n",
    "\n",
    "    # transit parameters\n",
    "    prior_rp = \n",
    "    prior_a = \n",
    "    prior_inc = \n",
    "    prior_t0 = \n",
    "    prior_jitter_lc =\n",
    "    \n",
    "    # rv parameters\n",
    "    prior_rvsys = \n",
    "    prior_K = \n",
    "    prior_jitter_rv = \n",
    "\n",
    "    # parameters shared between transit and rv\n",
    "    prior_period =\n",
    "\n",
    "    \n",
    "    # total log prior\n",
    "    ln_prior = \n",
    "\n",
    "    \n",
    "    if not fix_ecc:\n",
    "        prior_ecc = \n",
    "        prior_w = \n",
    "\n",
    "        # change ln_prior\n",
    "\n",
    "    return ln_prior"
   ]
  },
  {
   "cell_type": "code",
   "execution_count": null,
   "metadata": {
    "collapsed": true
   },
   "outputs": [],
   "source": [
    "### posterior distribution\n",
    "def lnprob(pars, planet, data, debug=True):\n",
    "    pass"
   ]
  },
  {
   "cell_type": "code",
   "execution_count": null,
   "metadata": {
    "collapsed": false
   },
   "outputs": [],
   "source": [
    "### initialize the Planet and Data classes\n",
    "planet = Planet()\n",
    "data = Data(rv_file='../EPIC-9792_SOPHIE.rdb', lc_file='../cuttransits.txt')"
   ]
  },
  {
   "cell_type": "code",
   "execution_count": null,
   "metadata": {
    "collapsed": false
   },
   "outputs": [],
   "source": [
    "### parameters for emcee\n",
    "ndim, nwalkers = "
   ]
  },
  {
   "cell_type": "code",
   "execution_count": null,
   "metadata": {
    "collapsed": true
   },
   "outputs": [],
   "source": [
    "# get random starting positions from the priors\n",
    "pos = planet.get_from_prior(nwalkers)"
   ]
  },
  {
   "cell_type": "code",
   "execution_count": null,
   "metadata": {
    "collapsed": false
   },
   "outputs": [],
   "source": [
    "# sample the posterior\n",
    "sampler = emcee.EnsembleSampler(nwalkers, ndim, lnprob, args=(planet, data))\n",
    "\n",
    "nsteps = 50\n",
    "out = sampler.run_mcmc(pos, nsteps)"
   ]
  },
  {
   "cell_type": "code",
   "execution_count": null,
   "metadata": {
    "collapsed": true
   },
   "outputs": [],
   "source": [
    "## optionally remove some of the initial steps\n",
    "burnin = 0\n",
    "samples = sampler.chain[:, burnin:, :].reshape((-1, ndim))"
   ]
  },
  {
   "cell_type": "code",
   "execution_count": null,
   "metadata": {
    "collapsed": false
   },
   "outputs": [],
   "source": [
    "## make a corner plot of the MCMC samples\n",
    "import corner\n",
    "\n",
    "..."
   ]
  },
  {
   "cell_type": "code",
   "execution_count": null,
   "metadata": {
    "collapsed": false
   },
   "outputs": [],
   "source": [
    "## get the medians of the posterior distributions\n",
    "median_pars = \n",
    "\n",
    "\n",
    "print ['%8s' % s.replace('$', '').replace('_', '').replace('\\\\rm', '').replace('\\\\','') for s in planet.labels]\n",
    "print ['%8.4f' % s for s in median_pars]"
   ]
  },
  {
   "cell_type": "code",
   "execution_count": null,
   "metadata": {
    "collapsed": false
   },
   "outputs": [],
   "source": [
    "# set the transit params\n",
    "planet.set_transit_parameters(median_pars[:5])\n",
    "# set the RV params\n",
    "planet.set_rv_parameters(median_pars[5:8])\n",
    "# set the shared params\n",
    "planet.set_shared_parameters(median_pars[8:])"
   ]
  },
  {
   "cell_type": "code",
   "execution_count": null,
   "metadata": {
    "collapsed": false
   },
   "outputs": [],
   "source": [
    "fig = plt.figure()\n",
    "\n",
    "#\n",
    "time = np.linspace(data.LCtime.min(), data.LCtime.max(), 5000)\n",
    "lc = planet.get_transit_curve(time)\n",
    "\n",
    "ax = fig.add_subplot(311)\n",
    "ax.plot(time, lc, lw=2)\n",
    "ax.plot(data.LCtime, data.LC, 'o', ms=2)\n",
    "\n",
    "#\n",
    "phase0 = (data.LCtime - planet.t0) / planet.period\n",
    "phase = phase0 % 1\n",
    "phase[np.where(phase>0.5)[0]]-=1\n",
    "\n",
    "ax = fig.add_subplot(312)\n",
    "ax.plot(phase, data.LC, 'o')\n",
    "\n",
    "#\n",
    "phase = ((time - planet.t0) / planet.period) % 1\n",
    "phase[np.where(phase>0.5)[0]]-=1\n",
    "LCfold = lc[np.argsort(phase)]\n",
    "\n",
    "ax.plot(np.sort(phase), LCfold, '-')\n",
    "ax.set_xlim([-0.1, 0.1])\n",
    "\n",
    "#\n",
    "time = np.linspace(data.RVtime.min(), data.RVtime.max(), 1000)\n",
    "rv = planet.get_rv_curve(time)\n",
    "\n",
    "ax = fig.add_subplot(313)\n",
    "ax.errorbar(data.RVtime, data.RV - median_pars[5], data.RVerror, fmt='o')\n",
    "ax.plot(time, rv*1e-3, 'k', alpha=0.7)\n",
    "\n",
    "\n",
    "plt.show()"
   ]
  },
  {
   "cell_type": "code",
   "execution_count": null,
   "metadata": {
    "collapsed": true
   },
   "outputs": [],
   "source": []
  }
 ],
 "metadata": {
  "kernelspec": {
   "display_name": "Python 2",
   "language": "python",
   "name": "python2"
  },
  "language_info": {
   "codemirror_mode": {
    "name": "ipython",
    "version": 2
   },
   "file_extension": ".py",
   "mimetype": "text/x-python",
   "name": "python",
   "nbconvert_exporter": "python",
   "pygments_lexer": "ipython2",
   "version": "2.7.12"
  }
 },
 "nbformat": 4,
 "nbformat_minor": 0
}
