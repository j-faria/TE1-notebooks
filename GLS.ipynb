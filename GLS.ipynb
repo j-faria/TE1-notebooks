{
 "cells": [
  {
   "cell_type": "code",
   "execution_count": null,
   "metadata": {
    "collapsed": true
   },
   "outputs": [],
   "source": [
    "import numpy as np\n",
    "%pylab"
   ]
  },
  {
   "cell_type": "code",
   "execution_count": null,
   "metadata": {
    "collapsed": true
   },
   "outputs": [],
   "source": [
    "# this requires Astropy 1.2.1\n",
    "from astropy.stats import LombScargle"
   ]
  },
  {
   "cell_type": "code",
   "execution_count": null,
   "metadata": {
    "collapsed": true
   },
   "outputs": [],
   "source": [
    "# Read the RV measurements\n",
    "time, rv, rv_error = \n",
    "\n",
    "# plot the data\n",
    "plt.figure()\n",
    "# ... \n",
    "plt.xlabel('Time [days]')\n",
    "plt.ylabel('RV [km/s]')"
   ]
  },
  {
   "cell_type": "code",
   "execution_count": null,
   "metadata": {
    "collapsed": true
   },
   "outputs": [],
   "source": [
    "# using Astropy's Lomb-Scargle periodogram is very easy!\n",
    "frequency, power = LombScargle(time, rv, rv_error).autopower()\n",
    "period = "
   ]
  },
  {
   "cell_type": "code",
   "execution_count": null,
   "metadata": {
    "collapsed": true
   },
   "outputs": [],
   "source": [
    "# plot the periodogram\n",
    "fig = plt.figure()\n",
    "...\n",
    "plt.xlabel('Period [days]')\n",
    "plt.ylabel('Power')"
   ]
  },
  {
   "cell_type": "code",
   "execution_count": null,
   "metadata": {
    "collapsed": true
   },
   "outputs": [],
   "source": [
    "# determine the period of maximum power\n",
    "# ..."
   ]
  },
  {
   "cell_type": "code",
   "execution_count": null,
   "metadata": {
    "collapsed": true
   },
   "outputs": [],
   "source": [
    "# plot the RVs phase-folded to the best period\n",
    "\n",
    "# use epoch0 from BLS\n",
    "T0 = 57064.424499156354\n",
    "\n",
    "phase = \n",
    "\n",
    "\n",
    "plt.figure()\n",
    "#...\n",
    "plt.xlim([0, 1])\n",
    "plt.xlabel('Orbital phase')\n",
    "plt.show()"
   ]
  }
 ],
 "metadata": {
  "kernelspec": {
   "display_name": "Python 2",
   "language": "python",
   "name": "python2"
  },
  "language_info": {
   "codemirror_mode": {
    "name": "ipython",
    "version": 2
   },
   "file_extension": ".py",
   "mimetype": "text/x-python",
   "name": "python",
   "nbconvert_exporter": "python",
   "pygments_lexer": "ipython2",
   "version": "2.7.12"
  }
 },
 "nbformat": 4,
 "nbformat_minor": 0
}
